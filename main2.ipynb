{
 "cells": [
  {
   "cell_type": "code",
   "execution_count": null,
   "id": "4923bae8",
   "metadata": {},
   "outputs": [
    {
     "name": "stdout",
     "output_type": "stream",
     "text": [
      "1,  2,  3,  4,  5,  6,  7,  8,  9,  10,  11,  12,  13,  14,  15,  16,  17,  18,  19,  20,  21,  22,  23,  24,  25,  26,  27,  28,  29,  30,  31,  32,  33,  34,  35,  36,  37,  38,  39,  40,  41,  42,  43,  44,  45,  46,  47,  48,  49,  50,  51,  52,  53,  54,  55,  56,  57,  58,  59,  60,  61,  62,  63,  64,  65,  66,  67,  68,  69,  70,  71,  72,  73,  74,  75,  76,  77,  78,  79,  80,  81,  82,  83,  84,  85,  86,  87,  88,  89,  90,  91,  92,  93,  94,  95,  96,  97,  98,  99,  100,  Translations completed.\n"
     ]
    }
   ],
   "source": [
    "import pandas as pd\n",
    "from google import genai\n",
    "from sacrebleu import corpus_bleu, corpus_chrf, corpus_ter\n",
    "\n",
    "client = genai.Client(api_key=\"AIzaTOKENTOKENTOEN0\")\n",
    "\n",
    "# Load 100 English sentences from the Excel file\n",
    "excel_path = r\"D:\\internship 7th sem\\IIT-Patna\\task 1\\train.xlsx\"\n",
    "df_excel = pd.read_excel(excel_path)\n",
    "english_sentences = df_excel['A'].head(100).tolist()  # Assumes column name is 'English'\n",
    "\n",
    "def translate_with_gemini(sentences):\n",
    "    translations = []\n",
    "    i = 1\n",
    "    for sentence in sentences:\n",
    "        print(f\"{i}, \", end=\" \")\n",
    "        prompt = f\"Translate this sentence to Hindi:\\n{sentence}\"\n",
    "        response = client.models.generate_content(\n",
    "            model=\"gemini-2.5-flash\",\n",
    "            contents=prompt,\n",
    "        )\n",
    "        i += 1\n",
    "        translations.append(response.text.strip())\n",
    "    print(\"Translations completed.\")\n",
    "    return translations\n",
    "\n",
    "hindi_translations = translate_with_gemini(english_sentences)\n",
    "\n",
    "\n",
    "reference_hindi = df_excel['B'].head(100).tolist() \n",
    "\n",
    "bleu = corpus_bleu(hindi_translations, [reference_hindi]).score\n",
    "chrf = corpus_chrf(hindi_translations, [reference_hindi]).score\n",
    "ter = corpus_ter(hindi_translations, [reference_hindi]).score\n",
    "\n",
    "with open(\"translation_metrics.txt\", \"w\", encoding=\"utf-8\") as f:\n",
    "    f.write(f\"BLEU Score: {bleu}\\n\")\n",
    "    f.write(f\"CHRF Score: {chrf}\\n\")\n",
    "    f.write(f\"TER Score: {ter}\\n\")\n",
    "\n",
    "df = pd.DataFrame({\n",
    "    \"Original English sentence\": english_sentences,\n",
    "    \"Model-generated Hindi translation\": hindi_translations\n",
    "})\n",
    "df.to_excel(\"english_hindi_translations.xlsx\", index=False)\n"
   ]
  },
  {
   "cell_type": "code",
   "execution_count": null,
   "id": "72653815",
   "metadata": {},
   "outputs": [],
   "source": []
  }
 ],
 "metadata": {
  "kernelspec": {
   "display_name": "Python 3",
   "language": "python",
   "name": "python3"
  },
  "language_info": {
   "codemirror_mode": {
    "name": "ipython",
    "version": 3
   },
   "file_extension": ".py",
   "mimetype": "text/x-python",
   "name": "python",
   "nbconvert_exporter": "python",
   "pygments_lexer": "ipython3",
   "version": "3.11.2"
  }
 },
 "nbformat": 4,
 "nbformat_minor": 5
}
