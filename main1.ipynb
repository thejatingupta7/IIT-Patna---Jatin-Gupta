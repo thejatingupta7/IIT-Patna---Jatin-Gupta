{
 "cells": [
  {
   "cell_type": "code",
   "execution_count": null,
   "id": "e9ef26b8",
   "metadata": {},
   "outputs": [],
   "source": [
    "from datasets import load_dataset\n",
    "from huggingface_hub import login\n",
    "\n",
    "# Login \n",
    "login(token=\"hf_MTOKEN_TOKEN_LLI\")\n",
    "ds = load_dataset(\"ainlpml/english-hindi\")"
   ]
  },
  {
   "cell_type": "code",
   "execution_count": 7,
   "id": "745d6e1d",
   "metadata": {},
   "outputs": [
    {
     "name": "stdout",
     "output_type": "stream",
     "text": [
      "DatasetDict({\n",
      "    train: Dataset({\n",
      "        features: ['text'],\n",
      "        num_rows: 20000\n",
      "    })\n",
      "})\n"
     ]
    }
   ],
   "source": [
    "print(ds)"
   ]
  },
  {
   "cell_type": "code",
   "execution_count": 11,
   "id": "11ce958c",
   "metadata": {},
   "outputs": [],
   "source": [
    "# Save the train split to an Excel file locally (do not commit)\n",
    "df_raw = ds['train'].to_pandas()\n",
    "df_raw.to_excel('train.xlsx', index=False)"
   ]
  },
  {
   "cell_type": "code",
   "execution_count": 14,
   "id": "f09fd641",
   "metadata": {},
   "outputs": [
    {
     "data": {
      "text/html": [
       "<div>\n",
       "<style scoped>\n",
       "    .dataframe tbody tr th:only-of-type {\n",
       "        vertical-align: middle;\n",
       "    }\n",
       "\n",
       "    .dataframe tbody tr th {\n",
       "        vertical-align: top;\n",
       "    }\n",
       "\n",
       "    .dataframe thead th {\n",
       "        text-align: right;\n",
       "    }\n",
       "</style>\n",
       "<table border=\"1\" class=\"dataframe\">\n",
       "  <thead>\n",
       "    <tr style=\"text-align: right;\">\n",
       "      <th></th>\n",
       "      <th>A</th>\n",
       "      <th>B</th>\n",
       "    </tr>\n",
       "  </thead>\n",
       "  <tbody>\n",
       "    <tr>\n",
       "      <th>0</th>\n",
       "      <td>However, Paes, who was partnering Australia's ...</td>\n",
       "      <td>आस्ट्रेलिया के पाल हेनली के साथ जोड़ी बनाने वाल...</td>\n",
       "    </tr>\n",
       "    <tr>\n",
       "      <th>1</th>\n",
       "      <td>Whosoever desires the reward of the world, wit...</td>\n",
       "      <td>और जो शख्स (अपने आमाल का) बदला दुनिया ही में च...</td>\n",
       "    </tr>\n",
       "    <tr>\n",
       "      <th>2</th>\n",
       "      <td>\"The value of insects in the biosphere is enor...</td>\n",
       "      <td>जैव-मंडल में कीड़ों का मूल्य बहुत है, क्योंकि ...</td>\n",
       "    </tr>\n",
       "    <tr>\n",
       "      <th>3</th>\n",
       "      <td>Mithali To Anchor Indian Team Against Australi...</td>\n",
       "      <td>आस्ट्रेलिया के खिलाफ वनडे टीम की कमान मिताली को</td>\n",
       "    </tr>\n",
       "    <tr>\n",
       "      <th>4</th>\n",
       "      <td>After the assent of the Honble President on 8t...</td>\n",
       "      <td>8 सितम्‍बर, 2016 को माननीय राष्‍ट्रपति की स्‍व...</td>\n",
       "    </tr>\n",
       "    <tr>\n",
       "      <th>...</th>\n",
       "      <td>...</td>\n",
       "      <td>...</td>\n",
       "    </tr>\n",
       "    <tr>\n",
       "      <th>9995</th>\n",
       "      <td>With these few, well - chosen words, wise King...</td>\n",
       "      <td>इन चंद, चुनिंदा शब्दों से बुद्धिमान राजा सुलैम...</td>\n",
       "    </tr>\n",
       "    <tr>\n",
       "      <th>9996</th>\n",
       "      <td>Police have arrested two people and apprehende...</td>\n",
       "      <td>पुलिस ने युवकों का पीछा कर दो युवकों को हिरासत...</td>\n",
       "    </tr>\n",
       "    <tr>\n",
       "      <th>9997</th>\n",
       "      <td>\"The annual production of poultry meat in 1991...</td>\n",
       "      <td>में मुर्गीपालन से प्राप्त मांस तथा गाद का अनुम...</td>\n",
       "    </tr>\n",
       "    <tr>\n",
       "      <th>9998</th>\n",
       "      <td>Step 1: Visit the official websites rsosapp.ra...</td>\n",
       "      <td>सबसे पहले ऑफिशियल वेबसाइट education. rajasthan...</td>\n",
       "    </tr>\n",
       "    <tr>\n",
       "      <th>9999</th>\n",
       "      <td>Anil Ambanis Reliance Group has sued news chan...</td>\n",
       "      <td>डिस्क्लेमर : अनिल अंबानी के रिलायंस ग्रुप ने N...</td>\n",
       "    </tr>\n",
       "  </tbody>\n",
       "</table>\n",
       "<p>10000 rows × 2 columns</p>\n",
       "</div>"
      ],
      "text/plain": [
       "                                                      A  \\\n",
       "0     However, Paes, who was partnering Australia's ...   \n",
       "1     Whosoever desires the reward of the world, wit...   \n",
       "2     \"The value of insects in the biosphere is enor...   \n",
       "3     Mithali To Anchor Indian Team Against Australi...   \n",
       "4     After the assent of the Honble President on 8t...   \n",
       "...                                                 ...   \n",
       "9995  With these few, well - chosen words, wise King...   \n",
       "9996  Police have arrested two people and apprehende...   \n",
       "9997  \"The annual production of poultry meat in 1991...   \n",
       "9998  Step 1: Visit the official websites rsosapp.ra...   \n",
       "9999  Anil Ambanis Reliance Group has sued news chan...   \n",
       "\n",
       "                                                      B  \n",
       "0     आस्ट्रेलिया के पाल हेनली के साथ जोड़ी बनाने वाल...  \n",
       "1     और जो शख्स (अपने आमाल का) बदला दुनिया ही में च...  \n",
       "2     जैव-मंडल में कीड़ों का मूल्य बहुत है, क्योंकि ...  \n",
       "3      आस्ट्रेलिया के खिलाफ वनडे टीम की कमान मिताली को   \n",
       "4     8 सितम्‍बर, 2016 को माननीय राष्‍ट्रपति की स्‍व...  \n",
       "...                                                 ...  \n",
       "9995  इन चंद, चुनिंदा शब्दों से बुद्धिमान राजा सुलैम...  \n",
       "9996  पुलिस ने युवकों का पीछा कर दो युवकों को हिरासत...  \n",
       "9997  में मुर्गीपालन से प्राप्त मांस तथा गाद का अनुम...  \n",
       "9998  सबसे पहले ऑफिशियल वेबसाइट education. rajasthan...  \n",
       "9999  डिस्क्लेमर : अनिल अंबानी के रिलायंस ग्रुप ने N...  \n",
       "\n",
       "[10000 rows x 2 columns]"
      ]
     },
     "execution_count": 14,
     "metadata": {},
     "output_type": "execute_result"
    }
   ],
   "source": [
    "# load data\n",
    "\n",
    "import pandas as pd\n",
    "df = pd.read_excel('train.xlsx')\n",
    "df"
   ]
  },
  {
   "cell_type": "code",
   "execution_count": 15,
   "id": "e57ae87a",
   "metadata": {},
   "outputs": [],
   "source": [
    "# Word count analyssis\n",
    "df['WordCount_English'] = df['A'].apply(lambda x: len(str(x).split()))\n",
    "df['WordCount_Hindi'] = df['B'].apply(lambda x: len(str(x).split()))"
   ]
  },
  {
   "cell_type": "code",
   "execution_count": 16,
   "id": "fdacd623",
   "metadata": {},
   "outputs": [],
   "source": [
    "# filtering range\n",
    "df = df[(df['WordCount_English'] >= 5) &\n",
    "    (df['WordCount_English'] <= 50) &\n",
    "    (df['WordCount_Hindi'] >= 5) &\n",
    "    (df['WordCount_Hindi'] <= 50)]\n",
    "\n"
   ]
  },
  {
   "cell_type": "code",
   "execution_count": 17,
   "id": "ec103410",
   "metadata": {},
   "outputs": [
    {
     "name": "stderr",
     "output_type": "stream",
     "text": [
      "C:\\Users\\jatin\\AppData\\Local\\Temp\\ipykernel_24656\\2317741972.py:1: SettingWithCopyWarning: \n",
      "A value is trying to be set on a copy of a slice from a DataFrame.\n",
      "Try using .loc[row_indexer,col_indexer] = value instead\n",
      "\n",
      "See the caveats in the documentation: https://pandas.pydata.org/pandas-docs/stable/user_guide/indexing.html#returning-a-view-versus-a-copy\n",
      "  df['WordCount_Diff'] = df['WordCount_English'] - df['WordCount_Hindi']\n"
     ]
    }
   ],
   "source": [
    "df['WordCount_Diff'] = df['WordCount_English'] - df['WordCount_Hindi']  #Word Count difference "
   ]
  },
  {
   "cell_type": "code",
   "execution_count": 19,
   "id": "dd442b48",
   "metadata": {},
   "outputs": [],
   "source": [
    "df = df[\n",
    "    (df['WordCount_Diff'] >= -10) &\n",
    "    (df['WordCount_Diff'] <= 10)\n",
    "]                                                   # Filter by differnece"
   ]
  },
  {
   "cell_type": "code",
   "execution_count": 21,
   "id": "782328de",
   "metadata": {},
   "outputs": [],
   "source": [
    "df = df[[\n",
    "    \"A\", \"B\", \"WordCount_English\", \"WordCount_Hindi\", \"WordCount_Diff\"\n",
    "]]\n",
    "\n",
    "# Save output\n",
    "df.to_excel(\"output_dataset.xlsx\", index=False)"
   ]
  },
  {
   "cell_type": "code",
   "execution_count": null,
   "id": "14ee72bd",
   "metadata": {},
   "outputs": [],
   "source": []
  }
 ],
 "metadata": {
  "kernelspec": {
   "display_name": "Python 3",
   "language": "python",
   "name": "python3"
  },
  "language_info": {
   "codemirror_mode": {
    "name": "ipython",
    "version": 3
   },
   "file_extension": ".py",
   "mimetype": "text/x-python",
   "name": "python",
   "nbconvert_exporter": "python",
   "pygments_lexer": "ipython3",
   "version": "3.11.2"
  }
 },
 "nbformat": 4,
 "nbformat_minor": 5
}
